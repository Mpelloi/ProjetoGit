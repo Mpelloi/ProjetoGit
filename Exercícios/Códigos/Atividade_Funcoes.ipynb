{
  "cells": [
    {
      "cell_type": "code",
      "execution_count": null,
      "metadata": {
        "colab": {
          "base_uri": "https://localhost:8080/"
        },
        "id": "9gnWoONZd1LD",
        "outputId": "4363eca5-e73a-43a0-f8f7-e560b3c09794"
      },
      "outputs": [
        {
          "name": "stdout",
          "output_type": "stream",
          "text": [
            "Informe o valor da empresa R$ 100000\n",
            "--- Socio: 1 ---\n",
            "Digite a o nome do sócio: Fulano\n",
            "Digite a sua participação na sociedade: 30\n",
            "--- Socio: 2 ---\n",
            "Digite a o nome do sócio: Beltrano\n",
            "Digite a sua participação na sociedade: 40\n",
            "--- Socio: 3 ---\n",
            "Digite a o nome do sócio: Ciclano\n",
            "Digite a sua participação na sociedade: 30\n",
            "\n",
            "A participação do Fulano é de R$ 30,000.00\n",
            "A participação do Beltrano é de R$ 40,000.00\n",
            "A participação do Ciclano é de R$ 30,000.00\n"
          ]
        }
      ],
      "source": [
        "from dataclasses import dataclass\n",
        "\n",
        "\n",
        "@dataclass\n",
        "class Socio:\n",
        "    nome: str\n",
        "    participacao: float\n",
        "\n",
        "def ler_socio(numero: int) -> Socio:\n",
        "    print(f\"--- Socio: {numero} ---\")\n",
        "    nome = input(f'Digite a o nome do sócio: ')\n",
        "    participacao = float(input(f'Digite a sua participação na sociedade: '))\n",
        "    return Socio(nome, participacao)\n",
        "\n",
        "valorempresa = float(input(\"Informe o valor da empresa R$ \"))\n",
        "\n",
        "socio1 = ler_socio(1)\n",
        "socio2 = ler_socio(2)\n",
        "socio3 = ler_socio(3)\n",
        "\n",
        "sociedade1 = (socio1.participacao / 100) * valorempresa\n",
        "sociedade2 = (socio2.participacao / 100) * valorempresa\n",
        "sociedade3 = (socio3.participacao / 100) * valorempresa\n",
        "print()\n",
        "\n",
        "print(f\"A participação do {socio1.nome} é de R$ {sociedade1:,.2f}\")\n",
        "print(f\"A participação do {socio2.nome} é de R$ {sociedade2:,.2f}\")\n",
        "print(f\"A participação do {socio3.nome} é de R$ {sociedade3:,.2f}\")\n",
        "\n"
      ]
    },
    {
      "cell_type": "code",
      "execution_count": 1,
      "metadata": {
        "colab": {
          "base_uri": "https://localhost:8080/"
        },
        "id": "mBxd7my7gDg0",
        "outputId": "fee107ee-b44a-49bc-9489-c7decb0ebc99"
      },
      "outputs": [
        {
          "name": "stdout",
          "output_type": "stream",
          "text": [
            "--- Aluno: 1 ---\n",
            "--- Aluno: 2 ---\n",
            "--- Aluno: 3 ---\n",
            "ABC - 9.0 - dentro da média\n",
            "BCD - 8.0 - dentro da média\n",
            "CDA - 5.0 - abaixo da média\n"
          ]
        }
      ],
      "source": [
        "from dataclasses import dataclass\n",
        "\n",
        "\n",
        "@dataclass\n",
        "class Aluno:\n",
        "    nome: str\n",
        "    nota: float\n",
        "\n",
        "def ler_aluno(numero: int) -> Aluno:\n",
        "    print(f\"--- Aluno: {numero} ---\")\n",
        "    nome = input(f'Digite a o nome do Aluno: ')\n",
        "    nota = float(input(f'Digite a sua nota: '))\n",
        "    return Aluno(nome, nota)\n",
        "\n",
        "aluno1 = ler_aluno(1)\n",
        "aluno2 = ler_aluno(2)\n",
        "aluno3 = ler_aluno(3)\n",
        "\n",
        "notamedia = float(input(\"Informe qual é a média: \"))\n",
        "\n",
        "if aluno1.nota < notamedia:\n",
        "  print(f\"{aluno1.nome} - {aluno1.nota} - abaixo da média\")\n",
        "else:\n",
        "  print(f\"{aluno1.nome} - {aluno1.nota} - dentro da média\")\n",
        "\n",
        "if aluno2.nota < notamedia:\n",
        "  print(f\"{aluno2.nome} - {aluno2.nota} - abaixo da média\")\n",
        "else:\n",
        "  print(f\"{aluno2.nome} - {aluno2.nota} - dentro da média\")\n",
        "\n",
        "if aluno3.nota < notamedia:\n",
        "  print(f\"{aluno3.nome} - {aluno3.nota} - abaixo da média\")\n",
        "else:\n",
        "  print(f\"{aluno3.nome} - {aluno3.nota} - dentro da média\")\n"
      ]
    },
    {
      "cell_type": "code",
      "execution_count": null,
      "metadata": {
        "colab": {
          "base_uri": "https://localhost:8080/"
        },
        "id": "YiQH4HFuJ9Sm",
        "outputId": "d75a0364-fc4e-423e-9d7e-36ca38ac3f42"
      },
      "outputs": [
        {
          "name": "stdout",
          "output_type": "stream",
          "text": [
            "--- Dados: 1 ---\n",
            "Digite a um nome: Fulano\n",
            "Digite seu peso: 85\n",
            "Digite sua altura: 1.85\n",
            "--- Dados: 2 ---\n",
            "Digite a um nome: Ciclano\n",
            "Digite seu peso: 82\n",
            "Digite sua altura: 1.75\n",
            "--- Dados: 3 ---\n",
            "Digite a um nome: Beltrano\n",
            "Digite seu peso: 84\n",
            "Digite sua altura: 1.62\n",
            "\n",
            "Fulano está saudável\n",
            "Ciclano está com sobrepeso\n",
            "Beltrano está com sobrepeso\n"
          ]
        }
      ],
      "source": [
        "from dataclasses import dataclass\n",
        "\n",
        "\n",
        "@dataclass\n",
        "class IMC:\n",
        "    nome: str\n",
        "    peso: float\n",
        "    altura: float\n",
        "\n",
        "def ler_imc(numero: int) -> IMC:\n",
        "    print(f\"--- Dados: {numero} ---\")\n",
        "    nome = input(f'Digite um nome: ')\n",
        "    peso = float(input(f'Digite seu peso: '))\n",
        "    altura = float(input(f'Digite sua altura: '))\n",
        "    return IMC(nome, peso, altura)\n",
        "\n",
        "pessoa1 = ler_imc(1)\n",
        "pessoa2 = ler_imc(2)\n",
        "pessoa3 = ler_imc(3)\n",
        "\n",
        "def imc_calc(peso, altura):\n",
        "  return peso / (altura**2)\n",
        "\n",
        "imc1 = imc_calc(pessoa1.peso, pessoa1.altura)\n",
        "imc2 = imc_calc(pessoa2.peso, pessoa2.altura)\n",
        "imc3 = imc_calc(pessoa3.peso, pessoa3.altura)\n",
        "\n",
        "print()\n",
        "if imc1 > 25 :\n",
        "  print(f\"{pessoa1.nome} está com sobrepeso\")\n",
        "else:\n",
        "  print(f\"{pessoa1.nome} está saudável\")\n",
        "if imc2 > 25 :\n",
        "  print(f\"{pessoa2.nome} está com sobrepeso\")\n",
        "else:\n",
        "  print(f\"{pessoa2.nome} está saudável\")\n",
        "if imc3 > 25 :\n",
        "  print(f\"{pessoa3.nome} está com sobrepeso\")\n",
        "else:\n",
        "  print(f\"{pessoa3.nome} está saudável\")"
      ]
    },
    {
      "cell_type": "code",
      "execution_count": null,
      "metadata": {
        "id": "-5PbB5lIJ-FU"
      },
      "outputs": [],
      "source": []
    }
  ],
  "metadata": {
    "colab": {
      "provenance": []
    },
    "kernelspec": {
      "display_name": "Python 3",
      "name": "python3"
    },
    "language_info": {
      "codemirror_mode": {
        "name": "ipython",
        "version": 3
      },
      "file_extension": ".py",
      "mimetype": "text/x-python",
      "name": "python",
      "nbconvert_exporter": "python",
      "pygments_lexer": "ipython3",
      "version": "3.8.10"
    }
  },
  "nbformat": 4,
  "nbformat_minor": 0
}
