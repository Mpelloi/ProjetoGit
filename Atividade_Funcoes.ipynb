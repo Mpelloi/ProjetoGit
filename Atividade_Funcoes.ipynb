{
  "cells": [
    {
      "cell_type": "code",
      "execution_count": 4,
      "metadata": {
        "colab": {
          "base_uri": "https://localhost:8080/"
        },
        "id": "9gnWoONZd1LD",
        "outputId": "4363eca5-e73a-43a0-f8f7-e560b3c09794"
      },
      "outputs": [
        {
          "name": "stdout",
          "output_type": "stream",
          "text": [
            "Informe o valor da empresa R$ 100000\n",
            "--- Socio: 1 ---\n",
            "Digite a o nome do sócio: Fulano\n",
            "Digite a sua participação na sociedade: 30\n",
            "--- Socio: 2 ---\n",
            "Digite a o nome do sócio: Beltrano\n",
            "Digite a sua participação na sociedade: 40\n",
            "--- Socio: 3 ---\n",
            "Digite a o nome do sócio: Ciclano\n",
            "Digite a sua participação na sociedade: 30\n",
            "\n",
            "A participação do Fulano é de R$ 30,000.00\n",
            "A participação do Beltrano é de R$ 40,000.00\n",
            "A participação do Ciclano é de R$ 30,000.00\n"
          ]
        }
      ],
      "source": [
        "from dataclasses import dataclass\n",
        "\n",
        "#Crie um programa que receba três nomes de sócios e a porcentagem que cada um possui da empresa,#\n",
        "#em seguida receba o valor total da empresa e calcule o valor correspondente de cada sócio.#\n",
        "\n",
        "@dataclass\n",
        "class Socio:\n",
        "    nome: str\n",
        "    participacao: float\n",
        "\n",
        "def ler_socio(numero: int) -> Socio:\n",
        "    print(f\"--- Socio: {numero} ---\")\n",
        "    nome = input(f'Digite a o nome do sócio: ')\n",
        "    participacao = float(input(f'Digite a sua participação na sociedade: '))\n",
        "    return Socio(nome, participacao)\n",
        "\n",
        "valorempresa = float(input(\"Informe o valor da empresa R$ \"))\n",
        "\n",
        "socio1 = ler_socio(1)\n",
        "socio2 = ler_socio(2)\n",
        "socio3 = ler_socio(3)\n",
        "\n",
        "sociedade1 = (socio1.participacao / 100) * valorempresa\n",
        "sociedade2 = (socio2.participacao / 100) * valorempresa\n",
        "sociedade3 = (socio3.participacao / 100) * valorempresa\n",
        "print()\n",
        "\n",
        "print(f\"A participação do {socio1.nome} é de R$ {sociedade1:,.2f}\")\n",
        "print(f\"A participação do {socio2.nome} é de R$ {sociedade2:,.2f}\")\n",
        "print(f\"A participação do {socio3.nome} é de R$ {sociedade3:,.2f}\")\n",
        "\n"
      ]
    },
    {
      "cell_type": "code",
      "execution_count": null,
      "metadata": {
        "id": "mBxd7my7gDg0"
      },
      "outputs": [],
      "source": []
    }
  ],
  "metadata": {
    "colab": {
      "provenance": []
    },
    "kernelspec": {
      "display_name": "Python 3",
      "name": "python3"
    },
    "language_info": {
      "name": "python"
    }
  },
  "nbformat": 4,
  "nbformat_minor": 0
}
